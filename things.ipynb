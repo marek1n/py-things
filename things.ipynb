{
 "metadata": {
  "language_info": {
   "codemirror_mode": {
    "name": "ipython",
    "version": 3
   },
   "file_extension": ".py",
   "mimetype": "text/x-python",
   "name": "python",
   "nbconvert_exporter": "python",
   "pygments_lexer": "ipython3",
   "version": "3.8.5"
  },
  "orig_nbformat": 4,
  "kernelspec": {
   "name": "python3",
   "display_name": "Python 3.8.5 64-bit ('base': conda)"
  },
  "interpreter": {
   "hash": "3a9b1227df176a5ac5bd58fa62e317afc6a458557520188ffb1e760f934e5030"
  }
 },
 "nbformat": 4,
 "nbformat_minor": 2,
 "cells": [
  {
   "source": [
    "Notes from: https://youtu.be/o9pEzgHorH0"
   ],
   "cell_type": "markdown",
   "metadata": {}
  },
  {
   "source": [
    "Suppose I have a function I mostly pass the same argument to, e.g.:"
   ],
   "cell_type": "markdown",
   "metadata": {}
  },
  {
   "source": [
    "def greet(greeting, target):\n",
    "    return f\"{greeting}, {target}!\"\n",
    "\n",
    "greet(\"Hi\", \"Bob\")"
   ],
   "cell_type": "code",
   "metadata": {},
   "execution_count": 6,
   "outputs": [
    {
     "output_type": "execute_result",
     "data": {
      "text/plain": [
       "'Hi, Bom!'"
      ]
     },
     "metadata": {},
     "execution_count": 6
    }
   ]
  },
  {
   "source": [
    "I -could- redefine the function and provide a default for the first arg:"
   ],
   "cell_type": "markdown",
   "metadata": {}
  },
  {
   "cell_type": "code",
   "execution_count": 8,
   "metadata": {},
   "outputs": [
    {
     "output_type": "execute_result",
     "data": {
      "text/plain": [
       "'Hi, Bob!'"
      ]
     },
     "metadata": {},
     "execution_count": 8
    }
   ],
   "source": [
    "def greet(target, greeting=\"Hi\"):\n",
    "    return f\"{greeting}, {target}!\"\n",
    "\n",
    "greet(\"Bob\")\n"
   ]
  },
  {
   "source": [
    "But maybe I can't/don't want to do that (function defined elsewhere; would need to refactor other bots etc.):"
   ],
   "cell_type": "markdown",
   "metadata": {}
  },
  {
   "cell_type": "code",
   "execution_count": 10,
   "metadata": {},
   "outputs": [
    {
     "output_type": "execute_result",
     "data": {
      "text/plain": [
       "'Hi, Bob!'"
      ]
     },
     "metadata": {},
     "execution_count": 10
    }
   ],
   "source": [
    "def greet(greeting, target):\n",
    "    return f\"{greeting}, {target}!\"\n",
    "\n",
    " \n",
    "from functools import partial\n",
    "hi_greet = partial(greet, \"Hi\")\n",
    "hi_greet(\"Bob\")\n"
   ]
  },
  {
   "source": [
    "<h2>Game of life OOP implementation vs functional implementation</h2"
   ],
   "cell_type": "markdown",
   "metadata": {}
  },
  {
   "cell_type": "code",
   "execution_count": 1,
   "metadata": {},
   "outputs": [],
   "source": [
    "class Cell:\n",
    "    def __init__(self, x, y, alive=True):\n",
    "        self.x, self.y = x, y\n",
    "        self.alive = alive\n",
    "        self.next = None\n",
    "\n",
    "    def neighbors(self):\n",
    "        yield (self.x + 1, self.y)\n",
    "        yield (self.x + 1, self.y + 1)\n",
    "        # ... etc, (8 neighboring cells)\n",
    "\n",
    "class Board:\n",
    "    def __init__(self):\n",
    "        self.cells = {}\n",
    "\n",
    "    def advance(self):\n",
    "        for (x,y), cell in self.cell.items():\n",
    "            if len(cell.neighbors) > 3:\n",
    "                cell.next = False\n"
   ]
  },
  {
   "cell_type": "code",
   "execution_count": 2,
   "metadata": {},
   "outputs": [],
   "source": [
    "import itertools\n",
    "\n",
    "board = {}\n",
    "\n",
    "def neighbors(point):\n",
    "    x, y = point\n",
    "    yield x + 1, y\n",
    "    yield x + 1, y + 1\n",
    "    # .. etc\n",
    "\n",
    "def advance(board):\n",
    "    newstate = set()\n",
    "    recalc = board | set(itertools.chain*(map(neighbors, board)))\n",
    "    for point in recalc:\n",
    "        count = sum((neigh in board) for neigh in neighbors(point))\n",
    "        \n",
    "        if count == 3 or (count == 2 and point in board):\n",
    "            newstate.add(point)\n",
    "\n",
    "    return newstate\n",
    "\n",
    "\n",
    "glider = set(\n",
    "    [(0, 0), (1, 0), (2, 0), (0, 1), (1, 2)]\n",
    "    )\n",
    "for i in range(1000):\n",
    "    glider = advance(glider)\n",
    "\n",
    "print(glider)\n"
   ]
  }
 ]
}