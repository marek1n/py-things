{
 "metadata": {
  "language_info": {
   "codemirror_mode": {
    "name": "ipython",
    "version": 3
   },
   "file_extension": ".py",
   "mimetype": "text/x-python",
   "name": "python",
   "nbconvert_exporter": "python",
   "pygments_lexer": "ipython3",
   "version": "3.8.5"
  },
  "orig_nbformat": 4,
  "kernelspec": {
   "name": "python3",
   "display_name": "Python 3.8.5 64-bit ('base': conda)"
  },
  "interpreter": {
   "hash": "3a9b1227df176a5ac5bd58fa62e317afc6a458557520188ffb1e760f934e5030"
  }
 },
 "nbformat": 4,
 "nbformat_minor": 2,
 "cells": [
  {
   "cell_type": "code",
   "execution_count": 10,
   "metadata": {},
   "outputs": [],
   "source": [
    "import functools\n",
    "import time\n",
    "\n",
    "# just add the decorator\n",
    "@functools.lru_cache\n",
    "def slow_square(number):\n",
    "    time.sleep(number)\n",
    "    return number**2"
   ]
  },
  {
   "cell_type": "code",
   "execution_count": 15,
   "metadata": {},
   "outputs": [
    {
     "output_type": "execute_result",
     "data": {
      "text/plain": [
       "9"
      ]
     },
     "metadata": {},
     "execution_count": 15
    }
   ],
   "source": [
    "# run once, running next time for the same value will yield result immediately\n",
    "slow_square(3)"
   ]
  },
  {
   "source": [
    "decorator uses:"
   ],
   "cell_type": "markdown",
   "metadata": {}
  },
  {
   "cell_type": "code",
   "execution_count": 43,
   "metadata": {},
   "outputs": [],
   "source": [
    "def before_after(func):\n",
    "    @functools.wraps(func)\n",
    "    def wrapper(text):\n",
    "        print(\"BEFORE\")\n",
    "        func(text)\n",
    "        print(\"AFTER\")\n",
    "    return wrapper\n",
    "\n",
    "@before_after\n",
    "def hi(name):\n",
    "    print(f\"Hi! {name}\")"
   ]
  },
  {
   "cell_type": "code",
   "execution_count": 44,
   "metadata": {},
   "outputs": [
    {
     "output_type": "stream",
     "name": "stdout",
     "text": [
      "BEFORE\nHi! buddy\nAFTER\n"
     ]
    }
   ],
   "source": [
    "hi(\"buddy\")"
   ]
  },
  {
   "cell_type": "code",
   "execution_count": 45,
   "metadata": {},
   "outputs": [
    {
     "output_type": "stream",
     "name": "stdout",
     "text": [
      "Hi! pal\n"
     ]
    }
   ],
   "source": [
    "# if you use functools.wraps you can get to the original function by using __wrapped__\n",
    "\n",
    "hi.__wrapped__(\"pal\")"
   ]
  },
  {
   "source": [
    "order of decorators matters:"
   ],
   "cell_type": "markdown",
   "metadata": {}
  },
  {
   "cell_type": "code",
   "execution_count": 48,
   "metadata": {},
   "outputs": [],
   "source": [
    "def do_twice(func):\n",
    "    @functools.wraps(func)\n",
    "    def wrapper(*args, **kwargs):\n",
    "        first = func(*args, **kwargs)\n",
    "        second = func(*args, **kwargs)\n",
    "        return first, second\n",
    "    return wrapper"
   ]
  },
  {
   "cell_type": "code",
   "execution_count": 49,
   "metadata": {},
   "outputs": [
    {
     "output_type": "stream",
     "name": "stdout",
     "text": [
      "BEFORE\nHi! buddy\nAFTER\nBEFORE\nHi! buddy\nAFTER\n"
     ]
    },
    {
     "output_type": "execute_result",
     "data": {
      "text/plain": [
       "(None, None)"
      ]
     },
     "metadata": {},
     "execution_count": 49
    }
   ],
   "source": [
    "@do_twice\n",
    "@before_after\n",
    "def hi(name):\n",
    "    print(f\"Hi! {name}\")\n",
    "\n",
    "hi(\"buddy\")"
   ]
  },
  {
   "cell_type": "code",
   "execution_count": 50,
   "metadata": {},
   "outputs": [
    {
     "output_type": "stream",
     "name": "stdout",
     "text": [
      "BEFORE\nHi! buddy\nHi! buddy\nAFTER\n"
     ]
    }
   ],
   "source": [
    "@before_after\n",
    "@do_twice\n",
    "def hi(name):\n",
    "    print(f\"Hi! {name}\")\n",
    "\n",
    "hi(\"buddy\")"
   ]
  },
  {
   "source": [
    "example: decorator calls a function as long as there is an exception"
   ],
   "cell_type": "markdown",
   "metadata": {}
  },
  {
   "cell_type": "code",
   "execution_count": 75,
   "metadata": {},
   "outputs": [],
   "source": [
    "import random\n",
    "\n",
    "def retry(func):\n",
    "    @functools.wraps(func)\n",
    "    def wrapper(*args, **kwargs):\n",
    "        while True:\n",
    "            try:\n",
    "                return func(*args, **kwargs)\n",
    "            except Exception as ex:\n",
    "                print(f\"Retrying ({ex})\")\n",
    "    return wrapper\n",
    "\n",
    "\n",
    "@retry\n",
    "def only_roll_sixes():\n",
    "    n = random.randint(1, 6)\n",
    "    if n != 6:\n",
    "        raise ValueError(n)\n",
    "    return n"
   ]
  },
  {
   "cell_type": "code",
   "execution_count": 76,
   "metadata": {},
   "outputs": [
    {
     "output_type": "stream",
     "name": "stdout",
     "text": [
      "Retrying (2)\nRetrying (5)\nRetrying (4)\nRetrying (3)\n"
     ]
    },
    {
     "output_type": "execute_result",
     "data": {
      "text/plain": [
       "6"
      ]
     },
     "metadata": {},
     "execution_count": 76
    }
   ],
   "source": [
    "only_roll_sixes()"
   ]
  }
 ]
}