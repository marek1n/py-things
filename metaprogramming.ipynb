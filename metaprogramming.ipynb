{
 "metadata": {
  "language_info": {
   "codemirror_mode": {
    "name": "ipython",
    "version": 3
   },
   "file_extension": ".py",
   "mimetype": "text/x-python",
   "name": "python",
   "nbconvert_exporter": "python",
   "pygments_lexer": "ipython3",
   "version": "3.8.5"
  },
  "orig_nbformat": 4,
  "kernelspec": {
   "name": "python3",
   "display_name": "Python 3.8.5 64-bit ('base': conda)"
  },
  "interpreter": {
   "hash": "125d682e72c5bb0a0c1d724a897db8ed8e7193a648d94da9b1a2973cf65ebd8c"
  }
 },
 "nbformat": 4,
 "nbformat_minor": 2,
 "cells": [
  {
   "source": [
    "notes: https://youtu.be/sPiWg5jSoZI"
   ],
   "cell_type": "markdown",
   "metadata": {}
  },
  {
   "source": [
    "<h3>Objects & Classes - review</h3>"
   ],
   "cell_type": "markdown",
   "metadata": {}
  },
  {
   "cell_type": "code",
   "execution_count": 7,
   "metadata": {},
   "outputs": [],
   "source": [
    "class Spam:\n",
    "    def __init__(self, x, y):\n",
    "        self.x, self.y = x, y\n",
    "\n",
    "    def instance_method(self):\n",
    "        pass\n",
    "\n",
    "    @classmethod\n",
    "    def class_method(cls):\n",
    "        pass\n",
    "\n",
    "    @staticmethod\n",
    "    def static_method():\n",
    "        pass\n",
    "\n",
    "\n",
    "# most common usage - execute on class instance\n",
    "\n",
    "s = Spam(2, 3)\n",
    "s.instance_method()\n",
    "\n",
    "# execute on class\n",
    "\n",
    "Spam.class_method()\n",
    "\n",
    "# static method is a plain old function encapsulated in a class\n",
    "\n",
    "Spam.static_method()"
   ]
  },
  {
   "source": [
    "objects are layered on dictionaries"
   ],
   "cell_type": "markdown",
   "metadata": {}
  },
  {
   "cell_type": "code",
   "execution_count": 8,
   "metadata": {},
   "outputs": [
    {
     "output_type": "execute_result",
     "data": {
      "text/plain": [
       "{'x': 2, 'y': 3}"
      ]
     },
     "metadata": {},
     "execution_count": 8
    }
   ],
   "source": [
    "s.__dict__"
   ]
  },
  {
   "cell_type": "code",
   "execution_count": 9,
   "metadata": {},
   "outputs": [
    {
     "output_type": "execute_result",
     "data": {
      "text/plain": [
       "<function __main__.Spam.instance_method(self)>"
      ]
     },
     "metadata": {},
     "execution_count": 9
    }
   ],
   "source": [
    "Spam.__dict__[\"instance_method\"]"
   ]
  },
  {
   "source": [
    "Types are their own class"
   ],
   "cell_type": "markdown",
   "metadata": {}
  },
  {
   "cell_type": "code",
   "execution_count": 1,
   "metadata": {},
   "outputs": [
    {
     "output_type": "execute_result",
     "data": {
      "text/plain": [
       "type"
      ]
     },
     "metadata": {},
     "execution_count": 1
    }
   ],
   "source": [
    "type(int)"
   ]
  },
  {
   "source": [
    "you can create a whole new metaclass, or just inherit from type:"
   ],
   "cell_type": "markdown",
   "metadata": {}
  },
  {
   "cell_type": "code",
   "execution_count": 2,
   "metadata": {},
   "outputs": [],
   "source": [
    "class mytype(type):\n",
    "    def __new__(cls, name, bases, clsdict):\n",
    "        clsobj = super().__new__(cls, name, bases, clsdict)\n",
    "        \n",
    "        return clsobj\n",
    "\n",
    "class Spam(metaclass=mytype):\n",
    "    pass"
   ]
  },
  {
   "source": [
    "Why use metaclasses? Idea: Create a class normally but immediately wrap by a class decorator. This can then propagate through inheritance."
   ],
   "cell_type": "markdown",
   "metadata": {}
  },
  {
   "cell_type": "code",
   "execution_count": 9,
   "metadata": {},
   "outputs": [],
   "source": [
    "from functools import wraps\n",
    "\n",
    "def debug(func):\n",
    "    @wraps\n",
    "    def wrapper(*args, **kwargs):\n",
    "        print(func.__name__)\n",
    "        return func(*args, **kwargs)\n",
    "    \n",
    "    return wrapper\n",
    "\n",
    "\n",
    "def debugmethods(cls: type):\n",
    "    for key, val in vars(cls).items():\n",
    "        if hasattr(val, \"__call__\") :\n",
    "            setattr(cls, key, debug(val))\n",
    "        \n",
    "        return cls\n",
    "\n",
    "\n",
    "class debugmeta(type):\n",
    "    def __new__(cls, name, bases, clsdict):\n",
    "        clsobj = super().__new__(cls, name, bases, clsdict)\n",
    "        clsobj = debugmethods(clsobj)\n",
    "    \n",
    "        return clsobj"
   ]
  },
  {
   "cell_type": "code",
   "execution_count": 8,
   "metadata": {},
   "outputs": [
    {
     "output_type": "execute_result",
     "data": {
      "text/plain": [
       "False"
      ]
     },
     "metadata": {},
     "execution_count": 8
    }
   ],
   "source": []
  }
 ]
}